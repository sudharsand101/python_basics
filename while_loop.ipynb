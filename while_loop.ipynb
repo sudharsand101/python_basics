{
 "cells": [
  {
   "cell_type": "code",
   "execution_count": 7,
   "id": "a86efc01-dba2-44da-a9f1-6bd1ffbdd2b5",
   "metadata": {},
   "outputs": [],
   "source": [
    "#) topic: while and for loops\n",
    "#) while loop:\n",
    "#)1. printing the numbers from 10 till the user number\n",
    "#)2. sum of the squares\n",
    "#)3. printing 2 numbers with conditions\n",
    "#)4. multiplication table\n",
    "#)5. to print square of each element from the list\n",
    "#)6. to check the number is odd or even\n",
    "#)7. to find the length of names\n",
    "\n",
    "#) for loop:\n",
    "#)8. for loop with continue\n",
    "#)9. for loop with break\n",
    "#)10. for loop with pass"
   ]
  },
  {
   "cell_type": "code",
   "execution_count": 6,
   "id": "502e73bf-7e01-4891-b2c5-1a9a77baacf8",
   "metadata": {},
   "outputs": [
    {
     "name": "stdout",
     "output_type": "stream",
     "text": [
      "the numbers till 45 from 10:\n",
      "\n",
      "10 11 12 13 14 15 16 17 18 19 20 21 22 23 24 25 26 27 28 29 30 31 32 33 34 35 36 37 38 39 40 41 42 43 44 45 "
     ]
    }
   ],
   "source": [
    "#)1. creating the function to print the numbers\n",
    "print(\"the numbers till 45 from 10:\\n\")\n",
    "\n",
    "#) user number\n",
    "user_num = 10\n",
    "\n",
    "#) creating function to print the numbers\n",
    "def numberPrint(user_num):\n",
    "    while user_num <= 45:\n",
    "        print(user_num,end=\" \")    #) printing the number in same line without comma\n",
    "        user_num+=1\n",
    "\n",
    "#) function call\n",
    "numberPrint(user_num)"
   ]
  },
  {
   "cell_type": "code",
   "execution_count": 22,
   "id": "ba9f5896-ddb4-403b-b7ac-255849db108f",
   "metadata": {},
   "outputs": [
    {
     "name": "stdout",
     "output_type": "stream",
     "text": [
      "the sum of square of 20 is:\n",
      "2870\n"
     ]
    }
   ],
   "source": [
    "#)2. sum of the squares\n",
    "#)entering num, count for iteration and sum \n",
    "user_num = 20\n",
    "count = 1\n",
    "sum = 0\n",
    "\n",
    "#)while function\n",
    "while count <= user_num:\n",
    "    sum = count**2 +sum\n",
    "    count = count+1\n",
    "\n",
    "print(f\"the sum of square of {user_num} is:\\n{sum}\")"
   ]
  },
  {
   "cell_type": "code",
   "execution_count": 1,
   "id": "074784f4-409b-47e4-85b5-4b37a13d1d72",
   "metadata": {},
   "outputs": [
    {
     "name": "stdout",
     "output_type": "stream",
     "text": [
      "(15, -9)\n",
      "(13, -6)\n",
      "(11, -3)\n"
     ]
    }
   ],
   "source": [
    "#)3. printing 2 numbers with conditions\n",
    "#) two numbers\n",
    "num_a = 17\n",
    "num_b = -12\n",
    "\n",
    "#) while loop for numbers in (x,y) format\n",
    "while num_b <-5:\n",
    "    num_a-=2\n",
    "    num_b+=3\n",
    "    print((num_a,num_b))"
   ]
  },
  {
   "cell_type": "code",
   "execution_count": 25,
   "id": "fb07b53b-f4c8-4181-b3b7-ec9847119b93",
   "metadata": {},
   "outputs": [
    {
     "name": "stdout",
     "output_type": "stream",
     "text": [
      "10 x 1 = 10\n",
      "10 x 2 = 20\n",
      "10 x 3 = 30\n",
      "10 x 4 = 40\n",
      "10 x 5 = 50\n",
      "10 x 6 = 60\n",
      "10 x 7 = 70\n",
      "10 x 8 = 80\n",
      "10 x 9 = 90\n",
      "10 x 10 = 100\n",
      "10 x 11 = 110\n",
      "10 x 12 = 120\n",
      "10 x 13 = 130\n",
      "10 x 14 = 140\n",
      "10 x 15 = 150\n",
      "10 x 16 = 160\n"
     ]
    }
   ],
   "source": [
    "#)4. multiplication table\n",
    "user_num = 10\n",
    "user_range = 1\n",
    "\n",
    "#) while function for table\n",
    "while user_range <= 16:\n",
    "    product = user_num * user_range\n",
    "    print(user_num,'x',user_range, '=',product)\n",
    "    user_range+=1"
   ]
  },
  {
   "cell_type": "code",
   "execution_count": 62,
   "id": "c113b56f-1262-4990-9a96-eb78d30a38a6",
   "metadata": {},
   "outputs": [
    {
     "name": "stdin",
     "output_type": "stream",
     "text": [
      "Enter your choice of range for numbers:\n",
      " 10\n"
     ]
    },
    {
     "name": "stdout",
     "output_type": "stream",
     "text": [
      "the number list:\n",
      " [1, 2, 3, 4, 5, 6, 7, 8, 9]\n",
      "square of the given list:\n",
      " [1, 4, 9, 16, 25, 36, 49, 64, 81]\n"
     ]
    }
   ],
   "source": [
    "#) 5. to print square of each element from the list\n",
    "user_range = input(\"Enter your choice of range for numbers:\\n\")\n",
    "user_range = int (user_range)\n",
    "\n",
    "#) to get the numbers of list \n",
    "user_list = []\n",
    "for num in range(1,user_range):\n",
    "    user_list.append(num)\n",
    "print(\"the number list:\\n\",user_list)\n",
    "\n",
    "#) squaring the numbers of list using while\n",
    "square_list = []\n",
    "while user_list:\n",
    "    square_list.append((user_list.pop())**2)\n",
    "\n",
    "square_list.reverse()\n",
    "print(\"square of the given list:\\n\",square_list)"
   ]
  },
  {
   "cell_type": "code",
   "execution_count": 64,
   "id": "ae7f3bcd-4bdc-4505-9795-32313c3b0394",
   "metadata": {},
   "outputs": [
    {
     "name": "stdout",
     "output_type": "stream",
     "text": [
      "the 0st element in number list:\n",
      "8 is even\n",
      "the 1st element in number list:\n",
      "11 is odd\n",
      "the 2st element in number list:\n",
      "14 is even\n",
      "the 3st element in number list:\n",
      "16 is even\n",
      "the 4st element in number list:\n",
      "18 is even\n",
      "the 5st element in number list:\n",
      "20 is even\n",
      "the 6st element in number list:\n",
      "21 is odd\n",
      "the 7st element in number list:\n",
      "23 is odd\n",
      "the 8st element in number list:\n",
      "24 is even\n"
     ]
    }
   ],
   "source": [
    "#) 6. to check the number is odd or even\n",
    "num_list = [8,11,14,16,18,20,21,23,24]\n",
    "index = 0\n",
    "\n",
    "#) while loop to find even or odd number\n",
    "while index < len(num_list):\n",
    "    num = num_list[index]\n",
    "    check_num = num%2\n",
    "    if check_num == 0:\n",
    "        print (f\"the {index}st element in number list:\\n{num} is even\")\n",
    "    else:\n",
    "        print (f\"the {index}st element in number list:\\n{num} is odd\")\n",
    "    index+=1"
   ]
  },
  {
   "cell_type": "code",
   "execution_count": 55,
   "id": "4ee28cde-74fe-4d15-b29d-56298ef7ca84",
   "metadata": {},
   "outputs": [
    {
     "name": "stdout",
     "output_type": "stream",
     "text": [
      "the 0st name in the given list is blackyy and its length is:\n",
      "7\n",
      "the 1st name in the given list is harichandar and its length is:\n",
      "11\n",
      "the 2st name in the given list is madhu and its length is:\n",
      "5\n",
      "the 3st name in the given list is ram and its length is:\n",
      "3\n",
      "the 4st name in the given list is laxman and its length is:\n",
      "6\n",
      "the 5st name in the given list is sita and its length is:\n",
      "4\n"
     ]
    }
   ],
   "source": [
    "#) 7. to find the length of names in name list\n",
    "name_list = [\"blackyy\",\"harichandar\",\"madhu\",\"ram\",\"laxman\",\"sita\"]\n",
    "index = 0\n",
    "\n",
    "#) while loop to find length of names in name list\n",
    "while index < len(name_list):\n",
    "    name = name_list[index]\n",
    "    name_length = len(name)\n",
    "    print(f\"the {index}st name in the given list is {name} and its length is:\\n{name_length}\")\n",
    "    index+=1"
   ]
  },
  {
   "cell_type": "code",
   "execution_count": 12,
   "id": "f3a09f0b-b977-4fe7-96e1-7ce2f403cf72",
   "metadata": {},
   "outputs": [
    {
     "name": "stdout",
     "output_type": "stream",
     "text": [
      "m\n",
      "a\n",
      "g\n",
      "o\n",
      " \n",
      "t\n"
     ]
    }
   ],
   "source": [
    "#)8. for loop with continue\n",
    "word = \"mango tree\"\n",
    "\n",
    "#)continue in for loop\n",
    "for letter in word:\n",
    "    if letter == 'n' or letter == 'r' or letter == 'e':\n",
    "        continue\n",
    "    print(letter)"
   ]
  },
  {
   "cell_type": "code",
   "execution_count": 9,
   "id": "d87fe1bf-5212-47e7-95a6-faf51563b440",
   "metadata": {},
   "outputs": [
    {
     "name": "stdout",
     "output_type": "stream",
     "text": [
      "m\n",
      "a\n",
      "n\n",
      "g\n",
      "o\n",
      " \n",
      "t\n",
      "r\n"
     ]
    }
   ],
   "source": [
    "#)9. for loop with break\n",
    "word = \"mango tree\"\n",
    "\n",
    "#) break in for loop\n",
    "for letter in word:\n",
    "    if letter == 'e':\n",
    "        break\n",
    "    print(letter)"
   ]
  },
  {
   "cell_type": "code",
   "execution_count": 10,
   "id": "9a275f1e-05f8-4ffc-bba0-0fb65217fc2e",
   "metadata": {},
   "outputs": [
    {
     "name": "stdout",
     "output_type": "stream",
     "text": [
      "m\n",
      "a\n",
      "n\n",
      "g\n",
      "o\n",
      " \n",
      "t\n",
      "r\n",
      "e\n",
      "e\n"
     ]
    }
   ],
   "source": [
    "#)10. for loop with pass\n",
    "word = \"mango tree\"\n",
    "\n",
    "#) pass in for loop\n",
    "for letter in word:\n",
    "    if letter == 'e':\n",
    "        pass\n",
    "    print(letter)"
   ]
  },
  {
   "cell_type": "code",
   "execution_count": null,
   "id": "0b2741b6-1754-4701-a56c-bd5fb049349b",
   "metadata": {},
   "outputs": [],
   "source": []
  }
 ],
 "metadata": {
  "kernelspec": {
   "display_name": "Python 3 (ipykernel)",
   "language": "python",
   "name": "python3"
  },
  "language_info": {
   "codemirror_mode": {
    "name": "ipython",
    "version": 3
   },
   "file_extension": ".py",
   "mimetype": "text/x-python",
   "name": "python",
   "nbconvert_exporter": "python",
   "pygments_lexer": "ipython3",
   "version": "3.12.0"
  }
 },
 "nbformat": 4,
 "nbformat_minor": 5
}
