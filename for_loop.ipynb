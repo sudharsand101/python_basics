{
 "cells": [
  {
   "cell_type": "raw",
   "id": "f65d5811-5559-4c8a-8e05-1ebab738ba5c",
   "metadata": {},
   "source": [
    "learner_name:sudharsan\n",
    "course:datascience\n",
    "batch:d101\n",
    "institute:guvi\n",
    "\n",
    "topic: learner's coding enemy part 1 - for loops(with user defined function,break)\n",
    "sub_topics:\n",
    "#)1.printing natural numbers getting input from users\n",
    "#)2.to get the odd numbers\n",
    "#)3.calculating sum of the even numbers:\n",
    "#)4. multiplication table of a given number:\n",
    "#)5. to count the total number of given digits\n",
    "#)6.checking the palindrome number\n",
    "#)7. to get the armstrong number\n",
    "#)8.display non prime numbers in the given range\n",
    "#) 9. factorial number\n",
    "#) 10. for loop with break\n",
    "\n",
    "coding_reference:'For Loop in Python (Practice Problem) – Python Tutorial – Shiksha Online'\n"
   ]
  },
  {
   "cell_type": "code",
   "execution_count": 6,
   "id": "fada5c67-1272-4226-a761-b574b0468f44",
   "metadata": {},
   "outputs": [
    {
     "name": "stdin",
     "output_type": "stream",
     "text": [
      "Enter the range for nature numbers:\n",
      " 4\n"
     ]
    },
    {
     "name": "stdout",
     "output_type": "stream",
     "text": [
      "1\n",
      "2\n",
      "3\n"
     ]
    }
   ],
   "source": [
    "#)1.printing natural numbers getting input from users:\n",
    "# importing colour print\n",
    "import simple_colors\n",
    "\n",
    "def inputRange():                             #)creating function to get the range from users\n",
    "    user_number = input(\"Enter the range for nature numbers:\\n\")\n",
    "    user_number = int (user_number)\n",
    "    return user_number\n",
    "\n",
    "\n",
    "def natureNumbers(user_number):               #)creating the function for whole numbers\n",
    "    for num in range(1,user_number):\n",
    "        print(num)\n",
    "\n",
    "\n",
    "nature_numbers = natureNumbers(inputRange())  #)to get the natural numbers\n",
    "nature_numbers"
   ]
  },
  {
   "cell_type": "code",
   "execution_count": 11,
   "id": "7b7a6d33-66f5-4fda-a4a4-8eae88897b60",
   "metadata": {},
   "outputs": [
    {
     "name": "stdin",
     "output_type": "stream",
     "text": [
      "Enter the range for odd numbers 37\n"
     ]
    },
    {
     "name": "stdout",
     "output_type": "stream",
     "text": [
      "1\n",
      "3\n",
      "5\n",
      "7\n",
      "9\n",
      "11\n",
      "13\n",
      "15\n",
      "17\n",
      "19\n",
      "21\n",
      "23\n",
      "25\n",
      "27\n",
      "29\n",
      "31\n",
      "33\n",
      "35\n"
     ]
    }
   ],
   "source": [
    "#)2.to get the odd numbers:\n",
    "def inputRange():                             #)creating function to get the range from users\n",
    "    user_number = input(\"Enter the range for odd numbers\\n:\")\n",
    "    user_number = int (user_number)\n",
    "    return user_number\n",
    "\n",
    "\n",
    "def oddNumber(user_number):                  #)creating the function for odd numbers\n",
    "    for num in range (user_number):\n",
    "        if num%2 != 0:\n",
    "            print(num)\n",
    "\n",
    "\n",
    "odd_numbers = oddNumber(inputRange())        #)to get the odd numbers\n",
    "odd_numbers"
   ]
  },
  {
   "cell_type": "code",
   "execution_count": 20,
   "id": "c6cca103-9a2b-456d-be09-70cf82ef95c9",
   "metadata": {},
   "outputs": [
    {
     "name": "stdin",
     "output_type": "stream",
     "text": [
      "Enter your range of number 8\n"
     ]
    },
    {
     "name": "stdout",
     "output_type": "stream",
     "text": [
      "28\n"
     ]
    }
   ],
   "source": [
    "#)3.calculating sum of the even numbers:\n",
    "def inputRange():                             #)creating get the numbers from users\n",
    "    user_number = input(\"Enter your range of number\\n:\")\n",
    "    user_number = int (user_number)\n",
    "    return user_number\n",
    "\n",
    "\n",
    "def sumEvenNum(user_number):                 #)creating the function for sum of the even numbers\n",
    "    sum = 0\n",
    "    for even_num in range(user_number):\n",
    "        if user_number%2 == 0:\n",
    "            sum+=even_num\n",
    "    print(sum)\n",
    "\n",
    "\n",
    "sum_even_numbers = sumEvenNum(inputRange())  #)to get the sum of given even numbers\n",
    "sum_even_numbers"
   ]
  },
  {
   "cell_type": "code",
   "execution_count": 26,
   "id": "3a13ff83-dc48-4d18-83c1-16cd009d1c49",
   "metadata": {},
   "outputs": [
    {
     "name": "stdin",
     "output_type": "stream",
     "text": [
      "Enter your choice of table number:\n",
      " 10\n",
      "Enter your range of number:\n",
      " 15\n"
     ]
    },
    {
     "name": "stdout",
     "output_type": "stream",
     "text": [
      "10 x 0 = 0\n",
      "10 x 1 = 10\n",
      "10 x 2 = 20\n",
      "10 x 3 = 30\n",
      "10 x 4 = 40\n",
      "10 x 5 = 50\n",
      "10 x 6 = 60\n",
      "10 x 7 = 70\n",
      "10 x 8 = 80\n",
      "10 x 9 = 90\n",
      "10 x 10 = 100\n",
      "10 x 11 = 110\n",
      "10 x 12 = 120\n",
      "10 x 13 = 130\n",
      "10 x 14 = 140\n"
     ]
    }
   ],
   "source": [
    "#)4. multiplication table of a given number:\n",
    "table_number = input(\"Enter your choice of table number:\\n\")\n",
    "table_number = int (table_number)\n",
    "\n",
    "\n",
    "def inputRange():                             #)creating function to get the table number and range\n",
    "    user_number = input(\"Enter your range of number:\\n\")\n",
    "    user_number = int (user_number)\n",
    "    say = user_number\n",
    "    return say\n",
    "\n",
    "\n",
    "def multiplyTable(user_number):               #)creating the function for multiplication table for given numbers\n",
    "    for num in range(user_number):\n",
    "        print(table_number,'x',num,'=',table_number*num)\n",
    "\n",
    "\n",
    "multiplication_table = multiplyTable(inputRange())  #)to get the multiplication table\n",
    "multiplication_table"
   ]
  },
  {
   "cell_type": "code",
   "execution_count": null,
   "id": "82a66825-ad35-4eeb-9b63-954eeb13f74f",
   "metadata": {},
   "outputs": [],
   "source": [
    "# )5. to count the total number of given digits\n",
    "def inputRange():                             #)creating function to get the number from users\n",
    "    user_number = input(\"Enter your range of number\")\n",
    "    user_number = str (user_number)           \n",
    "    return user_number\n",
    "\n",
    "\n",
    "def countDigits(user_number):                 #)creating the functions to count the digits\n",
    "    count = 0\n",
    "    for num in user_number:\n",
    "        count+=1\n",
    "    print(count)\n",
    "\n",
    "\n",
    "count_num_digits = countDigits(inputRange())  #)to count the digits\n",
    "count_num_digits"
   ]
  },
  {
   "cell_type": "code",
   "execution_count": 9,
   "id": "90451be1-89a6-43da-9b8d-e016ad032560",
   "metadata": {},
   "outputs": [
    {
     "name": "stdin",
     "output_type": "stream",
     "text": [
      "Enter the text\n",
      " aba\n"
     ]
    },
    {
     "data": {
      "text/plain": [
       "'Entered text is palindrome'"
      ]
     },
     "execution_count": 9,
     "metadata": {},
     "output_type": "execute_result"
    }
   ],
   "source": [
    "#)6.checking the palindrome number\n",
    "def inputText():                                     #)the functions to get text from users\n",
    "    user_text = input(\"Enter the text\\n:\")\n",
    "    user_text = str (user_text)\n",
    "    return user_text\n",
    "\n",
    "\n",
    "def PalindromeCheck(user_text):                       #)creating function to check the palindrome\n",
    "    for letter in user_text:\n",
    "        reversed_text = user_text[::-1]\n",
    "        if user_text == reversed_text:\n",
    "            say = \"Entered text is palindrome\"\n",
    "        else:\n",
    "            say = \"Entered text is not palndrome\"\n",
    "    return say\n",
    "\n",
    "\n",
    "check_palindrome_text = PalindromeCheck(inputText())   #) to get the palindrome \n",
    "check_palindrome_text"
   ]
  },
  {
   "cell_type": "code",
   "execution_count": 5,
   "id": "5f583899-dc0d-4ff6-b169-70a66e37f783",
   "metadata": {},
   "outputs": [
    {
     "name": "stdin",
     "output_type": "stream",
     "text": [
      "Enter your range of number 153\n"
     ]
    },
    {
     "data": {
      "text/plain": [
       "'The given number is armstrong'"
      ]
     },
     "execution_count": 5,
     "metadata": {},
     "output_type": "execute_result"
    }
   ],
   "source": [
    "#) 7. to get the armstrong number\n",
    "user_number = input(\"Enter your range of number\")  #)user number taking from inputs\n",
    "user_number = str (user_number)\n",
    "\n",
    "\n",
    "def inputRange():                             #)creating function to get the length of number\n",
    "    number_length = len(user_number)\n",
    "    return number_length\n",
    "\n",
    "\n",
    "def armstrongCheck(number_length):            #)creating function to check the num is armstrong\n",
    "    sum = 0\n",
    "    for num in user_number:\n",
    "        sum+=int(num)**number_length\n",
    "    if sum == int(user_number):\n",
    "        say = 'The given number is armstrong'\n",
    "    else:\n",
    "        say = 'The given number is not armstrong'\n",
    "    return say\n",
    "\n",
    "\n",
    "check_armstrong_num = armstrongCheck(inputRange())  #)to get armstrong num\n",
    "check_armstrong_num"
   ]
  },
  {
   "cell_type": "code",
   "execution_count": 17,
   "id": "39d287f1-cb5b-4ec5-9882-ddc91ae05912",
   "metadata": {},
   "outputs": [
    {
     "name": "stdin",
     "output_type": "stream",
     "text": [
      "Enter starting number:\n",
      " 10\n",
      "Enter ending number:\n",
      " 30\n"
     ]
    },
    {
     "name": "stdout",
     "output_type": "stream",
     "text": [
      "non prime numbers in the given range:\n",
      "10\n",
      "12\n",
      "14\n",
      "15\n",
      "16\n",
      "18\n",
      "20\n",
      "21\n",
      "22\n",
      "24\n",
      "25\n",
      "26\n",
      "27\n",
      "28\n"
     ]
    }
   ],
   "source": [
    "#)8.display non prime numbers in the given range\n",
    "\n",
    "# importing math function module\n",
    "import math\n",
    "\n",
    "starting_range = input(\"Enter starting number:\\n\")   #)taking range from user\n",
    "starting_range = int (starting_range)\n",
    "ending_range = input(\"Enter ending number:\\n\")\n",
    "ending_range = int(ending_range)\n",
    "\n",
    "def noPrime(elem):                                   #) creating the function to check the non prime numbers\n",
    "    val = False\n",
    "    for num in range (2,int(math.sqrt(elem))+1):\n",
    "        if elem%num == 0:\n",
    "            val = True\n",
    "    return val\n",
    "\n",
    "print(\"non prime numbers in the given range:\")\n",
    "for number in filter (noPrime,range(starting_range,ending_range)):   #) to get non prime numbers in the given range\n",
    "    print(number)"
   ]
  },
  {
   "cell_type": "code",
   "execution_count": 54,
   "id": "05521421-ce04-417f-a1ee-0bb6f88f6b9c",
   "metadata": {},
   "outputs": [
    {
     "name": "stdin",
     "output_type": "stream",
     "text": [
      "Enter the number\n",
      " 10\n"
     ]
    },
    {
     "name": "stdout",
     "output_type": "stream",
     "text": [
      "the factorial number for 10 is: \n",
      "3628800\n"
     ]
    }
   ],
   "source": [
    "#) 9. factorial number\n",
    "user_number = input(\"Enter the number\\n\") #) number taking from users\n",
    "user_number = int (user_number)           \n",
    "\n",
    "factorial = 1                    #) as 1 is the common value in the number of factorials\n",
    "\n",
    "#) calculating factorial numbers\n",
    "for num in range(1,user_number+1):\n",
    "    factorial = factorial*num\n",
    "\n",
    "\n",
    "print(f\"the factorial number for {user_number} is: \\n{factorial}\")"
   ]
  },
  {
   "cell_type": "code",
   "execution_count": 60,
   "id": "2e9ac2ce-3216-42f3-a47a-70d92b447f12",
   "metadata": {},
   "outputs": [
    {
     "name": "stdin",
     "output_type": "stream",
     "text": [
      "The choice of your number:\n",
      " 23\n"
     ]
    },
    {
     "name": "stdout",
     "output_type": "stream",
     "text": [
      "The entered number23 is available?:\n",
      "False\n"
     ]
    }
   ],
   "source": [
    "#) 10. for loop with break\n",
    "\n",
    "# number list\n",
    "numbers=[1,2,3,4,5,6,7,8,9,10]\n",
    "\n",
    "user_number = input(\"The choice of your number:\\n\")    #) number taking from users\n",
    "user_number = int (user_number)\n",
    "\n",
    "#) to find out the num in given list\n",
    "exist = False\n",
    "for num in numbers:\n",
    "    if user_number == num:\n",
    "        exist = True\n",
    "        break\n",
    "\n",
    "print(f\"The entered number {user_number} is available in the list?:\\n{exist}\")"
   ]
  },
  {
   "cell_type": "code",
   "execution_count": null,
   "id": "102df955-8889-4163-94f3-6805f882bf3d",
   "metadata": {},
   "outputs": [],
   "source": []
  }
 ],
 "metadata": {
  "kernelspec": {
   "display_name": "Python 3 (ipykernel)",
   "language": "python",
   "name": "python3"
  },
  "language_info": {
   "codemirror_mode": {
    "name": "ipython",
    "version": 3
   },
   "file_extension": ".py",
   "mimetype": "text/x-python",
   "name": "python",
   "nbconvert_exporter": "python",
   "pygments_lexer": "ipython3",
   "version": "3.12.0"
  }
 },
 "nbformat": 4,
 "nbformat_minor": 5
}
