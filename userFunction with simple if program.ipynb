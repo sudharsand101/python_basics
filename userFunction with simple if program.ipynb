{
 "cells": [
  {
   "cell_type": "raw",
   "id": "cbd7a6b1-6ffd-4afa-83e7-d5d666260803",
   "metadata": {},
   "source": [
    "                                    ***********************name: sudharsan J*****************************\n",
    "                                   ***********************course:datascience****************************\n",
    "                                    ***********************batch: d101**********************************\n",
    "                                   ***********************institute: guvi******************************\n",
    "            ****topic: user defined functions with if,and, or, not elif, else conditions with aritmetic and logical opertors********\n",
    "subtopics:\n",
    "1) to know small number in given 2 numbers:\n",
    "2) to decide the climate conditions is cold or hot\n",
    "3) planning the activity based on weather\n",
    "4) maintaing the healthy food habits\n",
    "5) filtering the marks\n",
    "6) voting elegibilty\n",
    "7) checking the leap year\n",
    "8) to know the presence of mentioned string\n",
    "9) to know whether a letter exists or not in the given sentence\n",
    "10) to calculate the interest amount"
   ]
  },
  {
   "cell_type": "code",
   "execution_count": 24,
   "id": "2e039d06-399a-45c8-b65a-63979a967564",
   "metadata": {},
   "outputs": [
    {
     "name": "stdin",
     "output_type": "stream",
     "text": [
      "Enter first number:\n",
      " 1\n",
      "Enter second number:\n",
      " 1\n"
     ]
    },
    {
     "name": "stdout",
     "output_type": "stream",
     "text": [
      "the first number 1 is equal to second number 1\n"
     ]
    }
   ],
   "source": [
    "# 1) to know small number in given 2 numbers:\n",
    "# entering numbers from user\n",
    "\n",
    "#)creating functions\n",
    "def findSmallNum (num1,num2):\n",
    "    if num1< num2:\n",
    "       say = print(f\"the first number {num1} is smaller than second number {num2}\")\n",
    "    elif num1>num2:\n",
    "       say = print(f\"the first number {num1} is greater than second number {num2}\")\n",
    "    else:\n",
    "       say = print(f\"the first number {num1} is equal to second number {num2}\")\n",
    "    return say\n",
    "\n",
    "#) to get the numbers from users\n",
    "num1 = input(\"Enter first number:\\n\")\n",
    "num2 = input(\"Enter second number:\\n\")\n",
    "\n",
    "#)calling the function\n",
    "find_number_small = findSmallNum(num1,num2)"
   ]
  },
  {
   "cell_type": "code",
   "execution_count": 32,
   "id": "4772eabc-9a72-41df-8f7d-6c78a1b9eacb",
   "metadata": {},
   "outputs": [
    {
     "name": "stdin",
     "output_type": "stream",
     "text": [
      "Hi!Enter the sorrounding temperature 12\n"
     ]
    },
    {
     "name": "stdout",
     "output_type": "stream",
     "text": [
      "weather is cold\n"
     ]
    }
   ],
   "source": [
    "# 2) to decide the climate conditions is cold or hot\n",
    "def inputTemp():\n",
    "    user_temp = input(\"Hi!Enter the sorrounding temperature:\")\n",
    "    user_temp = int (user_temp)\n",
    "    return user_temp\n",
    "\n",
    "def findWeatherCond(temp):\n",
    "    if temp <= 10:\n",
    "        say = \"weather is too cold\"\n",
    "        \n",
    "    elif temp <=17:\n",
    "        say = \"weather is cold\"\n",
    "        \n",
    "    elif temp <=28:\n",
    "        say = \"weather is fine\"\n",
    "        \n",
    "    else:\n",
    "        say = \"weather is hot\"\n",
    "    return say\n",
    "\n",
    "weather_finder = findWeatherCond(inputTemp())\n",
    "print(weather_finder)"
   ]
  },
  {
   "cell_type": "code",
   "execution_count": 36,
   "id": "a27c2582-0399-43bb-abe5-8191ef4349ed",
   "metadata": {},
   "outputs": [
    {
     "name": "stdout",
     "output_type": "stream",
     "text": [
      "Hi! Enter the weather condition only in the following format:\n",
      "verycold\n",
      "cold\n",
      "hot\n",
      "very hot\n"
     ]
    },
    {
     "name": "stdin",
     "output_type": "stream",
     "text": [
      "Enter the weather type as specified above very hot\n"
     ]
    },
    {
     "name": "stdout",
     "output_type": "stream",
     "text": [
      "Go to the water falls\n"
     ]
    }
   ],
   "source": [
    "# 3)planning the activity based on weather\n",
    "\n",
    "print(\"Hi! Enter the weather condition only in the following format:\\nverycold\\ncold\\nhot\\nvery hot\")\n",
    "\n",
    "def inputWeather():\n",
    "    user_weather = input(\"Enter the weather type as specified above\")\n",
    "    user_weather = str (user_weather)\n",
    "    return user_weather\n",
    "\n",
    "\n",
    "def activityPlanner(weather_condition):\n",
    "    if weather_condition == 'very cold':\n",
    "        say = \"stay in the home\"\n",
    "        \n",
    "    elif weather_condition == \"cold\":\n",
    "        say = \"Try an outdoor game\"\n",
    "        \n",
    "    elif weather_condition == \"hot\":\n",
    "        say = \"Try an indoor game\"\n",
    "        \n",
    "    elif weather_condition == \"very hot\":\n",
    "        say = \"Go to the water falls\"\n",
    "        \n",
    "    else:\n",
    "        say = \"Enter the weather condition only interms of above mentioned catagory\"\n",
    "    return say\n",
    "\n",
    "activity_finder = activityPlanner(inputWeather())\n",
    "print(activity_finder)"
   ]
  },
  {
   "cell_type": "code",
   "execution_count": 44,
   "id": "c6289e09-6442-4a4f-b1f6-efcc0fb55aad",
   "metadata": {},
   "outputs": [
    {
     "name": "stdout",
     "output_type": "stream",
     "text": [
      "yes means preferred to eat, no means not preferred to eat\n",
      "\n"
     ]
    },
    {
     "name": "stdin",
     "output_type": "stream",
     "text": [
      "Do you take breakfast?Type yes or no\n",
      " no\n",
      "Do you take lunch?Type yes or no\n",
      " no\n",
      "Do you take dinner?Type yes or no\n",
      " yes\n"
     ]
    },
    {
     "name": "stdout",
     "output_type": "stream",
     "text": [
      "not recommeded daily for the long hours of fast\n"
     ]
    }
   ],
   "source": [
    "# 4) maintaing the healthy food habits\n",
    "print(\"yes means preferred to eat, no means not preferred to eat\\n\")\n",
    "\n",
    "breakfast = input(\"Do you take breakfast?Type yes or no\\n\")\n",
    "breakfast = str(breakfast)\n",
    "\n",
    "lunch = input(\"Do you take lunch?Type yes or no\\n\")\n",
    "lunch = str(lunch)\n",
    "\n",
    "dinner = input(\"Do you take dinner?Type yes or no\\n\")\n",
    "dinner = str(dinner)\n",
    "\n",
    "def balanceDiet(breakfast,lunch,dinner):\n",
    "    if breakfast == \"yes\" and lunch == \"yes\" and dinner == \"yes\":\n",
    "        say = \"Its a bad food habit and possibility of weight gaining\"\n",
    "        \n",
    "    elif breakfast == \"no\" and lunch == \"yes\" and dinner == \"yes\":\n",
    "        say = \"Its a healthy food habit referred as intermediate fasting\"\n",
    "        \n",
    "    elif breakfast == \"no\" and lunch == \"no\" and dinner == \"yes\":\n",
    "        say = \"not recommeded daily for the long hours of fast\"\n",
    "        \n",
    "    elif breakfast == \"yes\" and lunch == \"no\" and dinner == \"no\":\n",
    "        say = \"skipping day time food is not a healthy choice\"\n",
    "        \n",
    "    elif breakfast == \"yes\" and lunch == \"yes\" and dinner == \"yes\":\n",
    "        say = \"taking the next meal within 6 hours is not not a healthy practice\"\n",
    "        \n",
    "    elif breakfast  == \"no\" and lunch == \"yes\" and dinner == \"no\":\n",
    "        say = \"not recommeded daily for the long hours of fast\"\n",
    "\n",
    "    elif breakfast == \"yes\" and lunch == \"no\" and dinner == \"yes\":\n",
    "        say = \"Its a healthy food habit referred as intermediate fasting\" \n",
    "    \n",
    "    return say\n",
    "    \n",
    "healthy_diet = balanceDiet(breakfast,lunch,dinner)\n",
    "print(healthy_diet)"
   ]
  },
  {
   "cell_type": "code",
   "execution_count": 31,
   "id": "b488b1f7-8f56-40ba-a7fd-8e8b2ea812ad",
   "metadata": {},
   "outputs": [
    {
     "name": "stdout",
     "output_type": "stream",
     "text": [
      "[30, 40, 50, 60, 70, 80]\n"
     ]
    }
   ],
   "source": [
    "#5)filtering the marks\n",
    "marks = [10,20,30,40,50,60,70,80]\n",
    "updated_marks = []\n",
    "\n",
    "def updatedMarks(marks):  \n",
    "    for mark in marks:\n",
    "        if mark >= 25:\n",
    "            updated_marks.append(mark)\n",
    "    return updated_marks\n",
    "\n",
    "final_marks = updatedMarks(marks)\n",
    "print(final_marks)"
   ]
  },
  {
   "cell_type": "code",
   "execution_count": 43,
   "id": "2f3020b1-4fa9-4596-b3b3-f2ffa112464a",
   "metadata": {},
   "outputs": [
    {
     "name": "stdin",
     "output_type": "stream",
     "text": [
      "Enter your age:\n",
      " 67\n"
     ]
    },
    {
     "name": "stdout",
     "output_type": "stream",
     "text": [
      "elegible for voting\n"
     ]
    }
   ],
   "source": [
    "#) 6 voting elegibilty\n",
    "def inputAge():\n",
    "    user_age = input(\"Enter your age:\\n\")\n",
    "    user_age = int(user_age)\n",
    "    return user_age\n",
    "\n",
    "def votingAge(age):\n",
    "    if not age>=18:\n",
    "        required_years = 18-age\n",
    "        say = print(f\"you need {required_years} years for voting\")\n",
    "        \n",
    "    else:\n",
    "        say = print(\"elegible for voting\")\n",
    "        return say\n",
    "\n",
    "voting_elegible = votingAge(inputAge())"
   ]
  },
  {
   "cell_type": "code",
   "execution_count": 50,
   "id": "ae61576f-9dba-46d9-aaab-45b97984c31c",
   "metadata": {},
   "outputs": [
    {
     "name": "stdin",
     "output_type": "stream",
     "text": [
      "Enter the year: 2\n"
     ]
    },
    {
     "name": "stdout",
     "output_type": "stream",
     "text": [
      "2 is required to have a leap year\n"
     ]
    }
   ],
   "source": [
    "#) 7.checking the leap year\n",
    "def inputYear():\n",
    "    user_year = input(\"Enter the year:\")\n",
    "    user_year = int (user_year)\n",
    "    return user_year\n",
    "\n",
    "def leapCheck(year):\n",
    "    if year%4==0:\n",
    "        say = print(\"it is a leap year\")\n",
    "        \n",
    "    else:\n",
    "        remaining_year = year%4\n",
    "        say = print(f\"{remaining_year} is required to have a leap year\")\n",
    "    return say\n",
    "\n",
    "know_leap = leapCheck(inputYear())"
   ]
  },
  {
   "cell_type": "code",
   "execution_count": 56,
   "id": "13fa1910-9f3b-4f48-9ca4-8cc938da7680",
   "metadata": {},
   "outputs": [
    {
     "name": "stdin",
     "output_type": "stream",
     "text": [
      "Enter your sentence to check the presence of letter a:\n",
      " I am\n"
     ]
    },
    {
     "name": "stdout",
     "output_type": "stream",
     "text": [
      "a is present\n"
     ]
    }
   ],
   "source": [
    "#) 8.to know the presence of mentioned string\n",
    "def userSentence():\n",
    "    user_sentence = input(\"Enter your sentence to check the presence of letter a:\\n\")\n",
    "    user_sentence = str (user_sentence)\n",
    "    return user_sentence\n",
    "\n",
    "def letterCheck(user_sentence):\n",
    "    letter = \"a\"\n",
    "    if letter in user_sentence:\n",
    "        say = print(f\"{letter} is present\")\n",
    "        \n",
    "    else:\n",
    "        say = print(f\"{letter} is not present\")\n",
    "\n",
    "    return say\n",
    "\n",
    "letter_check = letterCheck(userSentence())"
   ]
  },
  {
   "cell_type": "code",
   "execution_count": 58,
   "id": "15b54324-c13d-4795-b937-395e084c8cbc",
   "metadata": {},
   "outputs": [
    {
     "name": "stdout",
     "output_type": "stream",
     "text": [
      "key exists\n"
     ]
    }
   ],
   "source": [
    "#)9. to know whether a letter exists or not in the given sentence\n",
    "tree_dict = {\n",
    "    'tree_a':\"olive\",\n",
    "    'tree_b':\"neem\",\n",
    "    'tree_c':'almond'\n",
    "    'tree_d'\"oak\"\n",
    "}\n",
    "def findKeyDict(tree_dict):\n",
    "    finding_key = 'tree_c'\n",
    "    if finding_key in tree_dict:\n",
    "        say = \"key exists\"\n",
    "    else:\n",
    "        say = \"key does not exist\"\n",
    "    return say\n",
    "    \n",
    "finding_key = findKeyDict(tree_dict)\n",
    "print(finding_key)"
   ]
  },
  {
   "cell_type": "code",
   "execution_count": 64,
   "id": "8845cb36-863c-4df3-b8ad-013c59658311",
   "metadata": {},
   "outputs": [
    {
     "name": "stdin",
     "output_type": "stream",
     "text": [
      "Enter your savings amount to know the interest rate 2000000\n"
     ]
    },
    {
     "name": "stdout",
     "output_type": "stream",
     "text": [
      "2000.0\n"
     ]
    }
   ],
   "source": [
    "#) 10 to calculate the interest amount\n",
    "def inputSavings():\n",
    "    user_savings = input(\"Enter your savings amount to know the interest rate\")\n",
    "    user_savings = float(user_savings)\n",
    "    return user_savings\n",
    "\n",
    "def calculateInterest(user_savings):\n",
    "    if user_savings >= 100000:\n",
    "        interest_rate = 0.001*user_savings\n",
    "        \n",
    "    elif user_savings >= 200000:\n",
    "        interest_rate = 0.005*user_savings\n",
    "        \n",
    "    else:\n",
    "        interest_rate = 0\n",
    "        \n",
    "    return interest_rate\n",
    "\n",
    "savings_interest = calculateInterest(inputSavings())\n",
    "print(savings_interest)"
   ]
  },
  {
   "cell_type": "code",
   "execution_count": null,
   "id": "f61c53b7-f558-407e-903c-c07f32f3008b",
   "metadata": {},
   "outputs": [],
   "source": []
  }
 ],
 "metadata": {
  "kernelspec": {
   "display_name": "Python 3 (ipykernel)",
   "language": "python",
   "name": "python3"
  },
  "language_info": {
   "codemirror_mode": {
    "name": "ipython",
    "version": 3
   },
   "file_extension": ".py",
   "mimetype": "text/x-python",
   "name": "python",
   "nbconvert_exporter": "python",
   "pygments_lexer": "ipython3",
   "version": "3.12.0"
  }
 },
 "nbformat": 4,
 "nbformat_minor": 5
}
